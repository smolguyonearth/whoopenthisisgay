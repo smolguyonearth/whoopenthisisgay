{
 "cells": [
  {
   "cell_type": "markdown",
   "id": "8f7d699c",
   "metadata": {},
   "source": [
    "## Hell yeah, welcome to see the heatmap data from NASA ma man."
   ]
  },
  {
   "cell_type": "code",
   "execution_count": 1,
   "id": "cbb48348",
   "metadata": {},
   "outputs": [],
   "source": [
    "import numpy as np\n",
    "import pandas as pd\n",
    "import matplotlib.pyplot as plt"
   ]
  },
  {
   "cell_type": "markdown",
   "id": "9cbc505c",
   "metadata": {},
   "source": [
    "I got this code from New. Thanks to not make me do it"
   ]
  },
  {
   "cell_type": "code",
   "execution_count": 2,
   "id": "14f40379",
   "metadata": {},
   "outputs": [],
   "source": [
    "DL_FIRE_M_C61_nrt = pd.read_csv(\"../../data/FIRM-NASA-fire-alert-data/DL_FIRE_M-C61_591394/fire_nrt_M-C61_591394.csv\", parse_dates=[\"acq_date\"])\n",
    "DL_FIRE_M_C61_arc = pd.read_csv(\"../../data/FIRM-NASA-fire-alert-data/DL_FIRE_M-C61_591394/fire_archive_M-C61_591394.csv\", parse_dates=[\"acq_date\"])\n",
    "DL_FIRE_VIIRS_NOAA20_nrt = pd.read_csv(\"../../data/FIRM-NASA-fire-alert-data/DL_FIRE_J1V-C2_591395/fire_nrt_J1V-C2_591395.csv\", parse_dates=[\"acq_date\"])\n",
    "DL_FIRE_VIIRS_NOAA20_arc = pd.read_csv(\"../../data/FIRM-NASA-fire-alert-data/DL_FIRE_J1V-C2_591395/fire_archive_J1V-C2_591395.csv\", parse_dates=[\"acq_date\"])\n",
    "# DL_FIRE_VIIRS_NOAA21_nrt = pd.read_csv(\"../../data/FIRM-NASA-fire-alert-data/DL_FIRE_J2V-C2_591396/fire_nrt_J2V-C2_591396.csv\", parse_dates=[\"acq_date\"])\n",
    "DL_FIRE_VIIRS_SNNP_nrt = pd.read_csv(\"../../data/FIRM-NASA-fire-alert-data/DL_FIRE_SV-C2_591397/fire_nrt_SV-C2_591397.csv\", parse_dates=[\"acq_date\"])\n",
    "DL_FIRE_VIIRS_SNNP_arc = pd.read_csv(\"../../data/FIRM-NASA-fire-alert-data/DL_FIRE_SV-C2_591397/fire_archive_SV-C2_591397.csv\", parse_dates=[\"acq_date\"])"
   ]
  },
  {
   "cell_type": "code",
   "execution_count": 3,
   "id": "e3625168",
   "metadata": {},
   "outputs": [
    {
     "name": "stdout",
     "output_type": "stream",
     "text": [
      "(10384, 14)\n",
      "(650623, 15)\n",
      "(65978, 14)\n",
      "(1007837, 15)\n",
      "(58280, 14)\n",
      "(2188802, 15)\n"
     ]
    }
   ],
   "source": [
    "print(DL_FIRE_M_C61_nrt.shape)\n",
    "print(DL_FIRE_M_C61_arc.shape)\n",
    "print(DL_FIRE_VIIRS_NOAA20_nrt.shape)\n",
    "print(DL_FIRE_VIIRS_NOAA20_arc.shape)\n",
    "# DL_FIRE_VIIRS_NOAA21_nrt.shape\n",
    "print(DL_FIRE_VIIRS_SNNP_nrt.shape)\n",
    "print(DL_FIRE_VIIRS_SNNP_arc.shape)"
   ]
  },
  {
   "cell_type": "markdown",
   "id": "a4757d26",
   "metadata": {},
   "source": [
    "Well, I inspected through shape for u."
   ]
  },
  {
   "cell_type": "code",
   "execution_count": 5,
   "id": "1f5664aa",
   "metadata": {},
   "outputs": [],
   "source": [
    "DL_FIRE_M_C61 = pd.concat([DL_FIRE_M_C61_nrt, DL_FIRE_M_C61_arc], ignore_index=True)"
   ]
  },
  {
   "cell_type": "code",
   "execution_count": 6,
   "id": "5760e05f",
   "metadata": {},
   "outputs": [
    {
     "data": {
      "text/plain": [
       "(661007, 15)"
      ]
     },
     "execution_count": 6,
     "metadata": {},
     "output_type": "execute_result"
    }
   ],
   "source": [
    "DL_FIRE_M_C61.shape"
   ]
  },
  {
   "cell_type": "markdown",
   "id": "b7052392",
   "metadata": {},
   "source": [
    "after concat() u could see that it's nrt+arc"
   ]
  },
  {
   "cell_type": "code",
   "execution_count": 7,
   "id": "5153a409",
   "metadata": {},
   "outputs": [
    {
     "data": {
      "text/plain": [
       "(1073815, 15)"
      ]
     },
     "execution_count": 7,
     "metadata": {},
     "output_type": "execute_result"
    }
   ],
   "source": [
    "DL_FIRE_VIIRS_NOAA20 = pd.concat([DL_FIRE_VIIRS_NOAA20_nrt, DL_FIRE_VIIRS_NOAA20_arc], ignore_index=True)\n",
    "DL_FIRE_VIIRS_NOAA20.shape"
   ]
  },
  {
   "cell_type": "code",
   "execution_count": 8,
   "id": "511c93a9",
   "metadata": {},
   "outputs": [
    {
     "data": {
      "text/plain": [
       "(2247082, 15)"
      ]
     },
     "execution_count": 8,
     "metadata": {},
     "output_type": "execute_result"
    }
   ],
   "source": [
    "DL_FIRE_VIIRS_SNNP = pd.concat([DL_FIRE_VIIRS_SNNP_nrt, DL_FIRE_VIIRS_SNNP_arc], ignore_index=True)\n",
    "DL_FIRE_VIIRS_SNNP.shape"
   ]
  },
  {
   "cell_type": "markdown",
   "id": "d1e923eb",
   "metadata": {},
   "source": [
    "yes, all of them"
   ]
  }
 ],
 "metadata": {
  "kernelspec": {
   "display_name": "Python 3",
   "language": "python",
   "name": "python3"
  },
  "language_info": {
   "codemirror_mode": {
    "name": "ipython",
    "version": 3
   },
   "file_extension": ".py",
   "mimetype": "text/x-python",
   "name": "python",
   "nbconvert_exporter": "python",
   "pygments_lexer": "ipython3",
   "version": "3.12.4"
  }
 },
 "nbformat": 4,
 "nbformat_minor": 5
}
