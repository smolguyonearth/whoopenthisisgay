{
 "cells": [
  {
   "cell_type": "code",
   "execution_count": 3,
   "id": "8715cb63",
   "metadata": {},
   "outputs": [],
   "source": [
    "import pandas as pd\n",
    "from sklearn.model_selection import train_test_split, GridSearchCV\n",
    "from sklearn.ensemble import GradientBoostingRegressor\n",
    "from sklearn.metrics import mean_absolute_error, r2_score\n",
    "from sklearn.model_selection import RandomizedSearchCV"
   ]
  },
  {
   "cell_type": "code",
   "execution_count": 4,
   "id": "6ad28e1e",
   "metadata": {},
   "outputs": [
    {
     "data": {
      "text/html": [
       "<div>\n",
       "<style scoped>\n",
       "    .dataframe tbody tr th:only-of-type {\n",
       "        vertical-align: middle;\n",
       "    }\n",
       "\n",
       "    .dataframe tbody tr th {\n",
       "        vertical-align: top;\n",
       "    }\n",
       "\n",
       "    .dataframe thead th {\n",
       "        text-align: right;\n",
       "    }\n",
       "</style>\n",
       "<table border=\"1\" class=\"dataframe\">\n",
       "  <thead>\n",
       "    <tr style=\"text-align: right;\">\n",
       "      <th></th>\n",
       "      <th>date</th>\n",
       "      <th>temperature_min</th>\n",
       "      <th>dew_point_avg</th>\n",
       "      <th>humidity_avg</th>\n",
       "      <th>wind_speed_max</th>\n",
       "      <th>pressure_max</th>\n",
       "      <th>avg</th>\n",
       "      <th>bright_t31</th>\n",
       "    </tr>\n",
       "  </thead>\n",
       "  <tbody>\n",
       "    <tr>\n",
       "      <th>0</th>\n",
       "      <td>2012-01-31</td>\n",
       "      <td>77.500944</td>\n",
       "      <td>73.447192</td>\n",
       "      <td>71.139385</td>\n",
       "      <td>13.879623</td>\n",
       "      <td>29.857765</td>\n",
       "      <td>42.185185</td>\n",
       "      <td>293.308462</td>\n",
       "    </tr>\n",
       "    <tr>\n",
       "      <th>1</th>\n",
       "      <td>2012-02-29</td>\n",
       "      <td>81.714286</td>\n",
       "      <td>74.571429</td>\n",
       "      <td>66.000000</td>\n",
       "      <td>14.000000</td>\n",
       "      <td>29.800000</td>\n",
       "      <td>40.379310</td>\n",
       "      <td>297.839063</td>\n",
       "    </tr>\n",
       "    <tr>\n",
       "      <th>2</th>\n",
       "      <td>2012-03-31</td>\n",
       "      <td>72.870968</td>\n",
       "      <td>73.212903</td>\n",
       "      <td>65.064516</td>\n",
       "      <td>12.838710</td>\n",
       "      <td>29.841935</td>\n",
       "      <td>43.354839</td>\n",
       "      <td>296.471739</td>\n",
       "    </tr>\n",
       "    <tr>\n",
       "      <th>3</th>\n",
       "      <td>2012-04-30</td>\n",
       "      <td>76.466667</td>\n",
       "      <td>74.133333</td>\n",
       "      <td>63.406667</td>\n",
       "      <td>17.300000</td>\n",
       "      <td>29.836667</td>\n",
       "      <td>34.000000</td>\n",
       "      <td>295.727601</td>\n",
       "    </tr>\n",
       "    <tr>\n",
       "      <th>4</th>\n",
       "      <td>2012-05-31</td>\n",
       "      <td>81.645161</td>\n",
       "      <td>74.422581</td>\n",
       "      <td>67.074194</td>\n",
       "      <td>16.129032</td>\n",
       "      <td>29.735484</td>\n",
       "      <td>25.600000</td>\n",
       "      <td>293.872184</td>\n",
       "    </tr>\n",
       "  </tbody>\n",
       "</table>\n",
       "</div>"
      ],
      "text/plain": [
       "         date  temperature_min  dew_point_avg  humidity_avg  wind_speed_max  \\\n",
       "0  2012-01-31        77.500944      73.447192     71.139385       13.879623   \n",
       "1  2012-02-29        81.714286      74.571429     66.000000       14.000000   \n",
       "2  2012-03-31        72.870968      73.212903     65.064516       12.838710   \n",
       "3  2012-04-30        76.466667      74.133333     63.406667       17.300000   \n",
       "4  2012-05-31        81.645161      74.422581     67.074194       16.129032   \n",
       "\n",
       "   pressure_max        avg  bright_t31  \n",
       "0     29.857765  42.185185  293.308462  \n",
       "1     29.800000  40.379310  297.839063  \n",
       "2     29.841935  43.354839  296.471739  \n",
       "3     29.836667  34.000000  295.727601  \n",
       "4     29.735484  25.600000  293.872184  "
      ]
     },
     "execution_count": 4,
     "metadata": {},
     "output_type": "execute_result"
    }
   ],
   "source": [
    "df = pd.read_csv(\"../../data/a1/regressor.csv\")\n",
    "df.head()"
   ]
  },
  {
   "cell_type": "code",
   "execution_count": 5,
   "id": "36559842",
   "metadata": {},
   "outputs": [
    {
     "data": {
      "text/plain": [
       "['date',\n",
       " 'temperature_min',\n",
       " 'dew_point_avg',\n",
       " 'humidity_avg',\n",
       " 'wind_speed_max',\n",
       " 'pressure_max',\n",
       " 'avg',\n",
       " 'bright_t31']"
      ]
     },
     "execution_count": 5,
     "metadata": {},
     "output_type": "execute_result"
    }
   ],
   "source": [
    "features = df.columns.tolist()\n",
    "\n",
    "features"
   ]
  },
  {
   "cell_type": "code",
   "execution_count": 6,
   "id": "7ef65566",
   "metadata": {},
   "outputs": [],
   "source": [
    "features = ['temperature_min', 'dew_point_avg', 'humidity_avg', \n",
    "            'wind_speed_max', 'pressure_max', 'bright_t31']\n",
    "\n",
    "X = df[features]\n",
    "y = df['avg']"
   ]
  },
  {
   "cell_type": "code",
   "execution_count": 7,
   "id": "386d2e00",
   "metadata": {},
   "outputs": [],
   "source": [
    "X_train, X_test, y_train, y_test = train_test_split(\n",
    "    X, y, test_size=0.2, random_state=42\n",
    ")"
   ]
  },
  {
   "cell_type": "code",
   "execution_count": 8,
   "id": "23b5b445",
   "metadata": {},
   "outputs": [],
   "source": [
    "gbr = GradientBoostingRegressor(random_state=42)\n",
    "\n",
    "param_dist = {\n",
    "    \"n_estimators\": [100, 200, 300, 500],\n",
    "    \"learning_rate\": [0.01, 0.05, 0.1, 0.2],\n",
    "    \"max_depth\": [3, 5, 7, 10, 15],\n",
    "    \"subsample\": [0.6, 0.8, 1.0],\n",
    "    \"min_samples_split\": [2, 5, 10],\n",
    "    \"min_samples_leaf\": [1, 3, 5],\n",
    "}"
   ]
  },
  {
   "cell_type": "code",
   "execution_count": 9,
   "id": "000ddd7e",
   "metadata": {},
   "outputs": [
    {
     "name": "stdout",
     "output_type": "stream",
     "text": [
      "Fitting 5 folds for each of 50 candidates, totalling 250 fits\n",
      "Best Hyperparameters: {'subsample': 0.6, 'n_estimators': 500, 'min_samples_split': 2, 'min_samples_leaf': 5, 'max_depth': 7, 'learning_rate': 0.01}\n"
     ]
    }
   ],
   "source": [
    "random_search = RandomizedSearchCV(\n",
    "    gbr, param_distributions=param_dist, n_iter=50, cv=5, scoring=\"r2\", \n",
    "    n_jobs=-1, verbose=2, random_state=42\n",
    ")\n",
    "\n",
    "random_search.fit(X, y)\n",
    "\n",
    "best_model = random_search.best_estimator_\n",
    "print(\"Best Hyperparameters:\", random_search.best_params_)"
   ]
  },
  {
   "cell_type": "code",
   "execution_count": 10,
   "id": "2a068c68",
   "metadata": {},
   "outputs": [
    {
     "name": "stdout",
     "output_type": "stream",
     "text": [
      "Test Set MAE: 1.6974431955043494\n",
      "Test Set R²: 0.9416469751362472\n"
     ]
    }
   ],
   "source": [
    "y_pred = best_model.predict(X_test)\n",
    "\n",
    "mae = mean_absolute_error(y_test, y_pred)\n",
    "r2 = r2_score(y_test, y_pred)\n",
    "\n",
    "print(\"Test Set MAE:\", mae)\n",
    "print(\"Test Set R²:\", r2)"
   ]
  },
  {
   "cell_type": "code",
   "execution_count": 11,
   "id": "abf36fc1",
   "metadata": {},
   "outputs": [
    {
     "name": "stdout",
     "output_type": "stream",
     "text": [
      "Average of the target variable: 27.40403805155058\n"
     ]
    },
    {
     "data": {
      "image/png": "[encoded data removed]",
      "text/plain": [
       "<Figure size 400x300 with 1 Axes>"
      ]
     },
     "metadata": {},
     "output_type": "display_data"
    }
   ],
   "source": [
    "import matplotlib.pyplot as plt\n",
    "import seaborn as sns\n",
    "\n",
    "# Assuming 'y' is your target variable\n",
    "target_mean = y.mean()\n",
    "print(\"Average of the target variable:\", target_mean)\n",
    "\n",
    "# Visualize with a histogram\n",
    "plt.figure(figsize=(4, 3))\n",
    "sns.histplot(y, kde=True, color='blue', bins=30)\n",
    "plt.axvline(target_mean, color='red', linestyle='--', label=f'Mean: {target_mean:.2f}')\n",
    "plt.title(\"Distribution of Target Variable\")\n",
    "plt.xlabel(\"Target Variable\")\n",
    "plt.ylabel(\"Frequency\")\n",
    "plt.legend()\n",
    "plt.show()\n"
   ]
  },
  {
   "cell_type": "code",
   "execution_count": 12,
   "id": "90d7e97d",
   "metadata": {},
   "outputs": [
    {
     "data": {
      "image/png": "[encoded data removed]",
      "text/plain": [
       "<Figure size 450x300 with 1 Axes>"
      ]
     },
     "metadata": {},
     "output_type": "display_data"
    }
   ],
   "source": [
    "plt.figure(figsize=(4.5, 3))\n",
    "sns.boxplot(x=y, color='green')\n",
    "plt.title(\"Box Plot of Target Variable\")\n",
    "plt.xlabel(\"Target Variable\")\n",
    "plt.show()\n"
   ]
  },
  {
   "cell_type": "code",
   "execution_count": 13,
   "id": "79b824d9",
   "metadata": {},
   "outputs": [
    {
     "name": "stdout",
     "output_type": "stream",
     "text": [
      "Percentage Error: 6.19%\n"
     ]
    }
   ],
   "source": [
    "percentage_error = (mae / target_mean) * 100\n",
    "print(f\"Percentage Error: {percentage_error:.2f}%\")\n"
   ]
  },
  {
   "cell_type": "code",
   "execution_count": 16,
   "id": "bf60429c",
   "metadata": {},
   "outputs": [],
   "source": [
    "pred_heat = pd.read_csv(\"../../data/a1/bkk_fire_forecast.csv\")"
   ]
  },
  {
   "cell_type": "code",
   "execution_count": 17,
   "id": "b3bef72b",
   "metadata": {},
   "outputs": [],
   "source": [
    "pred_weather = pd.read_csv(\"../../data/a1/bkk_weather_forecasts.csv\")"
   ]
  },
  {
   "cell_type": "code",
   "execution_count": 18,
   "id": "c311dbcf",
   "metadata": {},
   "outputs": [
    {
     "data": {
      "text/html": [
       "<div>\n",
       "<style scoped>\n",
       "    .dataframe tbody tr th:only-of-type {\n",
       "        vertical-align: middle;\n",
       "    }\n",
       "\n",
       "    .dataframe tbody tr th {\n",
       "        vertical-align: top;\n",
       "    }\n",
       "\n",
       "    .dataframe thead th {\n",
       "        text-align: right;\n",
       "    }\n",
       "</style>\n",
       "<table border=\"1\" class=\"dataframe\">\n",
       "  <thead>\n",
       "    <tr style=\"text-align: right;\">\n",
       "      <th></th>\n",
       "      <th>Unnamed: 0</th>\n",
       "      <th>Forecast</th>\n",
       "    </tr>\n",
       "  </thead>\n",
       "  <tbody>\n",
       "    <tr>\n",
       "      <th>0</th>\n",
       "      <td>2025-01-01</td>\n",
       "      <td>296.527634</td>\n",
       "    </tr>\n",
       "    <tr>\n",
       "      <th>1</th>\n",
       "      <td>2025-02-01</td>\n",
       "      <td>298.495400</td>\n",
       "    </tr>\n",
       "    <tr>\n",
       "      <th>2</th>\n",
       "      <td>2025-03-01</td>\n",
       "      <td>298.001687</td>\n",
       "    </tr>\n",
       "    <tr>\n",
       "      <th>3</th>\n",
       "      <td>2025-04-01</td>\n",
       "      <td>296.515401</td>\n",
       "    </tr>\n",
       "    <tr>\n",
       "      <th>4</th>\n",
       "      <td>2025-05-01</td>\n",
       "      <td>294.418716</td>\n",
       "    </tr>\n",
       "    <tr>\n",
       "      <th>5</th>\n",
       "      <td>2025-06-01</td>\n",
       "      <td>291.238212</td>\n",
       "    </tr>\n",
       "    <tr>\n",
       "      <th>6</th>\n",
       "      <td>2025-07-01</td>\n",
       "      <td>290.104348</td>\n",
       "    </tr>\n",
       "    <tr>\n",
       "      <th>7</th>\n",
       "      <td>2025-08-01</td>\n",
       "      <td>290.710417</td>\n",
       "    </tr>\n",
       "    <tr>\n",
       "      <th>8</th>\n",
       "      <td>2025-09-01</td>\n",
       "      <td>292.286179</td>\n",
       "    </tr>\n",
       "    <tr>\n",
       "      <th>9</th>\n",
       "      <td>2025-10-01</td>\n",
       "      <td>292.962572</td>\n",
       "    </tr>\n",
       "    <tr>\n",
       "      <th>10</th>\n",
       "      <td>2025-11-01</td>\n",
       "      <td>294.174330</td>\n",
       "    </tr>\n",
       "    <tr>\n",
       "      <th>11</th>\n",
       "      <td>2025-12-01</td>\n",
       "      <td>295.666299</td>\n",
       "    </tr>\n",
       "  </tbody>\n",
       "</table>\n",
       "</div>"
      ],
      "text/plain": [
       "    Unnamed: 0    Forecast\n",
       "0   2025-01-01  296.527634\n",
       "1   2025-02-01  298.495400\n",
       "2   2025-03-01  298.001687\n",
       "3   2025-04-01  296.515401\n",
       "4   2025-05-01  294.418716\n",
       "5   2025-06-01  291.238212\n",
       "6   2025-07-01  290.104348\n",
       "7   2025-08-01  290.710417\n",
       "8   2025-09-01  292.286179\n",
       "9   2025-10-01  292.962572\n",
       "10  2025-11-01  294.174330\n",
       "11  2025-12-01  295.666299"
      ]
     },
     "execution_count": 18,
     "metadata": {},
     "output_type": "execute_result"
    }
   ],
   "source": [
    "pred_heat"
   ]
  },
  {
   "cell_type": "code",
   "execution_count": 19,
   "id": "d16effb1",
   "metadata": {},
   "outputs": [
    {
     "data": {
      "text/html": [
       "<div>\n",
       "<style scoped>\n",
       "    .dataframe tbody tr th:only-of-type {\n",
       "        vertical-align: middle;\n",
       "    }\n",
       "\n",
       "    .dataframe tbody tr th {\n",
       "        vertical-align: top;\n",
       "    }\n",
       "\n",
       "    .dataframe thead th {\n",
       "        text-align: right;\n",
       "    }\n",
       "</style>\n",
       "<table border=\"1\" class=\"dataframe\">\n",
       "  <thead>\n",
       "    <tr style=\"text-align: right;\">\n",
       "      <th></th>\n",
       "      <th>Unnamed: 0</th>\n",
       "      <th>temperature_min</th>\n",
       "      <th>dew_point_avg</th>\n",
       "      <th>humidity_avg</th>\n",
       "      <th>wind_speed_max</th>\n",
       "      <th>pressure_max</th>\n",
       "    </tr>\n",
       "  </thead>\n",
       "  <tbody>\n",
       "    <tr>\n",
       "      <th>0</th>\n",
       "      <td>2025-01-01</td>\n",
       "      <td>73.937399</td>\n",
       "      <td>66.001702</td>\n",
       "      <td>59.936968</td>\n",
       "      <td>10.927567</td>\n",
       "      <td>29.962235</td>\n",
       "    </tr>\n",
       "    <tr>\n",
       "      <th>1</th>\n",
       "      <td>2025-02-01</td>\n",
       "      <td>76.130002</td>\n",
       "      <td>69.495609</td>\n",
       "      <td>62.611846</td>\n",
       "      <td>12.243775</td>\n",
       "      <td>29.948831</td>\n",
       "    </tr>\n",
       "    <tr>\n",
       "      <th>2</th>\n",
       "      <td>2025-03-01</td>\n",
       "      <td>80.932229</td>\n",
       "      <td>73.983326</td>\n",
       "      <td>65.686083</td>\n",
       "      <td>13.327495</td>\n",
       "      <td>29.891894</td>\n",
       "    </tr>\n",
       "    <tr>\n",
       "      <th>3</th>\n",
       "      <td>2025-04-01</td>\n",
       "      <td>82.110178</td>\n",
       "      <td>74.981018</td>\n",
       "      <td>64.955275</td>\n",
       "      <td>14.436356</td>\n",
       "      <td>29.833971</td>\n",
       "    </tr>\n",
       "    <tr>\n",
       "      <th>4</th>\n",
       "      <td>2025-05-01</td>\n",
       "      <td>81.649949</td>\n",
       "      <td>75.788083</td>\n",
       "      <td>67.437158</td>\n",
       "      <td>15.481426</td>\n",
       "      <td>29.793205</td>\n",
       "    </tr>\n",
       "    <tr>\n",
       "      <th>5</th>\n",
       "      <td>2025-06-01</td>\n",
       "      <td>80.714307</td>\n",
       "      <td>75.220508</td>\n",
       "      <td>68.466501</td>\n",
       "      <td>15.980084</td>\n",
       "      <td>29.778122</td>\n",
       "    </tr>\n",
       "    <tr>\n",
       "      <th>6</th>\n",
       "      <td>2025-07-01</td>\n",
       "      <td>80.251153</td>\n",
       "      <td>74.781423</td>\n",
       "      <td>70.476092</td>\n",
       "      <td>16.277803</td>\n",
       "      <td>29.770377</td>\n",
       "    </tr>\n",
       "    <tr>\n",
       "      <th>7</th>\n",
       "      <td>2025-08-01</td>\n",
       "      <td>79.541085</td>\n",
       "      <td>74.832543</td>\n",
       "      <td>71.165397</td>\n",
       "      <td>15.780204</td>\n",
       "      <td>29.786701</td>\n",
       "    </tr>\n",
       "    <tr>\n",
       "      <th>8</th>\n",
       "      <td>2025-09-01</td>\n",
       "      <td>79.332062</td>\n",
       "      <td>75.512331</td>\n",
       "      <td>75.273864</td>\n",
       "      <td>14.610562</td>\n",
       "      <td>29.802886</td>\n",
       "    </tr>\n",
       "    <tr>\n",
       "      <th>9</th>\n",
       "      <td>2025-10-01</td>\n",
       "      <td>78.862733</td>\n",
       "      <td>75.009087</td>\n",
       "      <td>74.582823</td>\n",
       "      <td>12.701386</td>\n",
       "      <td>29.865865</td>\n",
       "    </tr>\n",
       "    <tr>\n",
       "      <th>10</th>\n",
       "      <td>2025-11-01</td>\n",
       "      <td>77.997361</td>\n",
       "      <td>72.101932</td>\n",
       "      <td>66.687027</td>\n",
       "      <td>11.896219</td>\n",
       "      <td>29.894911</td>\n",
       "    </tr>\n",
       "    <tr>\n",
       "      <th>11</th>\n",
       "      <td>2025-12-01</td>\n",
       "      <td>74.879809</td>\n",
       "      <td>66.717491</td>\n",
       "      <td>59.891367</td>\n",
       "      <td>11.054709</td>\n",
       "      <td>29.951055</td>\n",
       "    </tr>\n",
       "  </tbody>\n",
       "</table>\n",
       "</div>"
      ],
      "text/plain": [
       "    Unnamed: 0  temperature_min  dew_point_avg  humidity_avg  wind_speed_max  \\\n",
       "0   2025-01-01        73.937399      66.001702     59.936968       10.927567   \n",
       "1   2025-02-01        76.130002      69.495609     62.611846       12.243775   \n",
       "2   2025-03-01        80.932229      73.983326     65.686083       13.327495   \n",
       "3   2025-04-01        82.110178      74.981018     64.955275       14.436356   \n",
       "4   2025-05-01        81.649949      75.788083     67.437158       15.481426   \n",
       "5   2025-06-01        80.714307      75.220508     68.466501       15.980084   \n",
       "6   2025-07-01        80.251153      74.781423     70.476092       16.277803   \n",
       "7   2025-08-01        79.541085      74.832543     71.165397       15.780204   \n",
       "8   2025-09-01        79.332062      75.512331     75.273864       14.610562   \n",
       "9   2025-10-01        78.862733      75.009087     74.582823       12.701386   \n",
       "10  2025-11-01        77.997361      72.101932     66.687027       11.896219   \n",
       "11  2025-12-01        74.879809      66.717491     59.891367       11.054709   \n",
       "\n",
       "    pressure_max  \n",
       "0      29.962235  \n",
       "1      29.948831  \n",
       "2      29.891894  \n",
       "3      29.833971  \n",
       "4      29.793205  \n",
       "5      29.778122  \n",
       "6      29.770377  \n",
       "7      29.786701  \n",
       "8      29.802886  \n",
       "9      29.865865  \n",
       "10     29.894911  \n",
       "11     29.951055  "
      ]
     },
     "execution_count": 19,
     "metadata": {},
     "output_type": "execute_result"
    }
   ],
   "source": [
    "pred_weather"
   ]
  },
  {
   "cell_type": "code",
   "execution_count": 22,
   "id": "c2b7ad80",
   "metadata": {},
   "outputs": [
    {
     "name": "stdout",
     "output_type": "stream",
     "text": [
      "         date  temperature_min  dew_point_avg  humidity_avg  wind_speed_max  \\\n",
      "0  2025-01-01        73.937399      66.001702     59.936968       10.927567   \n",
      "1  2025-02-01        76.130002      69.495609     62.611846       12.243775   \n",
      "2  2025-03-01        80.932229      73.983326     65.686083       13.327495   \n",
      "3  2025-04-01        82.110178      74.981018     64.955275       14.436356   \n",
      "4  2025-05-01        81.649949      75.788083     67.437158       15.481426   \n",
      "\n",
      "   pressure_max  \n",
      "0     29.962235  \n",
      "1     29.948831  \n",
      "2     29.891894  \n",
      "3     29.833971  \n",
      "4     29.793205  \n",
      "         date    Forecast\n",
      "0  2025-01-01  296.527634\n",
      "1  2025-02-01  298.495400\n",
      "2  2025-03-01  298.001687\n",
      "3  2025-04-01  296.515401\n",
      "4  2025-05-01  294.418716\n"
     ]
    }
   ],
   "source": [
    "pred_weather.rename(columns={pred_weather.columns[0]: \"date\"}, inplace=True)\n",
    "print(pred_weather.head())\n",
    "\n",
    "pred_heat.rename(columns={pred_heat.columns[0]: \"date\"}, inplace=True)\n",
    "print(pred_heat.head())"
   ]
  },
  {
   "cell_type": "code",
   "execution_count": 23,
   "id": "99df9814",
   "metadata": {},
   "outputs": [
    {
     "data": {
      "text/html": [
       "<div>\n",
       "<style scoped>\n",
       "    .dataframe tbody tr th:only-of-type {\n",
       "        vertical-align: middle;\n",
       "    }\n",
       "\n",
       "    .dataframe tbody tr th {\n",
       "        vertical-align: top;\n",
       "    }\n",
       "\n",
       "    .dataframe thead th {\n",
       "        text-align: right;\n",
       "    }\n",
       "</style>\n",
       "<table border=\"1\" class=\"dataframe\">\n",
       "  <thead>\n",
       "    <tr style=\"text-align: right;\">\n",
       "      <th></th>\n",
       "      <th>date</th>\n",
       "      <th>temperature_min</th>\n",
       "      <th>dew_point_avg</th>\n",
       "      <th>humidity_avg</th>\n",
       "      <th>wind_speed_max</th>\n",
       "      <th>pressure_max</th>\n",
       "      <th>Forecast</th>\n",
       "    </tr>\n",
       "  </thead>\n",
       "  <tbody>\n",
       "    <tr>\n",
       "      <th>0</th>\n",
       "      <td>2025-01-01</td>\n",
       "      <td>73.937399</td>\n",
       "      <td>66.001702</td>\n",
       "      <td>59.936968</td>\n",
       "      <td>10.927567</td>\n",
       "      <td>29.962235</td>\n",
       "      <td>296.527634</td>\n",
       "    </tr>\n",
       "    <tr>\n",
       "      <th>1</th>\n",
       "      <td>2025-02-01</td>\n",
       "      <td>76.130002</td>\n",
       "      <td>69.495609</td>\n",
       "      <td>62.611846</td>\n",
       "      <td>12.243775</td>\n",
       "      <td>29.948831</td>\n",
       "      <td>298.495400</td>\n",
       "    </tr>\n",
       "    <tr>\n",
       "      <th>2</th>\n",
       "      <td>2025-03-01</td>\n",
       "      <td>80.932229</td>\n",
       "      <td>73.983326</td>\n",
       "      <td>65.686083</td>\n",
       "      <td>13.327495</td>\n",
       "      <td>29.891894</td>\n",
       "      <td>298.001687</td>\n",
       "    </tr>\n",
       "    <tr>\n",
       "      <th>3</th>\n",
       "      <td>2025-04-01</td>\n",
       "      <td>82.110178</td>\n",
       "      <td>74.981018</td>\n",
       "      <td>64.955275</td>\n",
       "      <td>14.436356</td>\n",
       "      <td>29.833971</td>\n",
       "      <td>296.515401</td>\n",
       "    </tr>\n",
       "    <tr>\n",
       "      <th>4</th>\n",
       "      <td>2025-05-01</td>\n",
       "      <td>81.649949</td>\n",
       "      <td>75.788083</td>\n",
       "      <td>67.437158</td>\n",
       "      <td>15.481426</td>\n",
       "      <td>29.793205</td>\n",
       "      <td>294.418716</td>\n",
       "    </tr>\n",
       "  </tbody>\n",
       "</table>\n",
       "</div>"
      ],
      "text/plain": [
       "         date  temperature_min  dew_point_avg  humidity_avg  wind_speed_max  \\\n",
       "0  2025-01-01        73.937399      66.001702     59.936968       10.927567   \n",
       "1  2025-02-01        76.130002      69.495609     62.611846       12.243775   \n",
       "2  2025-03-01        80.932229      73.983326     65.686083       13.327495   \n",
       "3  2025-04-01        82.110178      74.981018     64.955275       14.436356   \n",
       "4  2025-05-01        81.649949      75.788083     67.437158       15.481426   \n",
       "\n",
       "   pressure_max    Forecast  \n",
       "0     29.962235  296.527634  \n",
       "1     29.948831  298.495400  \n",
       "2     29.891894  298.001687  \n",
       "3     29.833971  296.515401  \n",
       "4     29.793205  294.418716  "
      ]
     },
     "execution_count": 23,
     "metadata": {},
     "output_type": "execute_result"
    }
   ],
   "source": [
    "# Merge the two DataFrames on the 'date' column\n",
    "pred = pd.merge(pred_weather, pred_heat, on=\"date\", how=\"inner\")\n",
    "pred.head()"
   ]
  },
  {
   "cell_type": "code",
   "execution_count": 24,
   "id": "8a764f15",
   "metadata": {},
   "outputs": [
    {
     "data": {
      "text/plain": [
       "(12, 7)"
      ]
     },
     "execution_count": 24,
     "metadata": {},
     "output_type": "execute_result"
    }
   ],
   "source": [
    "pred.shape"
   ]
  },
  {
   "cell_type": "code",
   "execution_count": null,
   "id": "e0ecfcaf",
   "metadata": {},
   "outputs": [],
   "source": []
  }
 ],
 "metadata": {
  "kernelspec": {
   "display_name": "Python 3",
   "language": "python",
   "name": "python3"
  },
  "language_info": {
   "codemirror_mode": {
    "name": "ipython",
    "version": 3
   },
   "file_extension": ".py",
   "mimetype": "text/x-python",
   "name": "python",
   "nbconvert_exporter": "python",
   "pygments_lexer": "ipython3",
   "version": "3.12.3"
  }
 },
 "nbformat": 4,
 "nbformat_minor": 5
}
